{
 "cells": [
  {
   "cell_type": "code",
   "execution_count": 1,
   "metadata": {},
   "outputs": [],
   "source": [
    "import pandas as pd\n",
    "import os\n",
    "import zipfile\n",
    "import zlib\n",
    "import re\n",
    "from tqdm import tqdm_notebook\n",
    "import glob\n",
    "import math\n",
    "\n",
    "def func(order):\n",
    "    #파일 경로\n",
    "    zipped_files = glob.glob(\"C:\\\\Users\\\\scsi_public\\\\Desktop\\intern\\\\A comparative analysis of Taxi data\\\\*.zip\")\n",
    "\n",
    "    #zip파일 안에 있는 csv를 하나로\n",
    "    def make_total_df(zipfile_, file_list):\n",
    "        total_df=pd.DataFrame([], [])\n",
    "\n",
    "        for i in tqdm_notebook(range(len(file_list))):\n",
    "            # read csv file in zip file\n",
    "            df = pd.read_csv(zipfile_.open(file_list[i]), encoding = 'cp949')\n",
    "            #concat dataframe\n",
    "            total_df=pd.concat([total_df, df])\n",
    "\n",
    "        return total_df\n",
    "\n",
    "    allData = []\n",
    "\n",
    "\n",
    "\n",
    "    zf = zipped_files[order]\n",
    "    KT_2_zip = zipfile.ZipFile(zf) \n",
    "    file_list = zipfile.ZipFile.namelist(KT_2_zip)\n",
    "    total_df=make_total_df(zipfile_=KT_2_zip, file_list=file_list)\n",
    "    total_df.drop(['#차량번호', '생성월', '지역코드', '좌표X(bessel)', '좌표Y(bessel)', '회사코드', '운전자ID', '좌표X(wgs84)', '좌표Y(wgs84)'], axis = 1, inplace = True)\n",
    "    total_df = total_df.drop(total_df.index[0])\n",
    "    total_df\n",
    "\n",
    "    def takeget(total_df):\n",
    "        data_0123 = []\n",
    "        for i in range(0,4):    \n",
    "                data = total_df[(total_df['승빈차코드']==i)].copy()\n",
    "                data.drop(['승빈차코드'], axis = 1, inplace = True)\n",
    "                data.columns = [i]\n",
    "                data_0123.append(data) \n",
    "        return data_0123\n",
    "\n",
    "    data_0123 = takeget(total_df)\n",
    "    \n",
    "    time_0123 = [[0]*24, [0]*24, [0]*24, [0]*24]\n",
    "    \n",
    "    for i in range(0,4):\n",
    "        time_count = [0]*24\n",
    "        for j in range(1, len(data_0123[i].index)):\n",
    "            x = str(math.trunc(int(data_0123[i].iloc[j])))\n",
    "            y = int(x[0:4])\n",
    "            if y == 0 : break\n",
    "            time = int(x[8:10])\n",
    "            time_count[time] += 1\n",
    "            if j == len(data_0123[i].index) - 1:\n",
    "                for k in range(len(time_count)):\n",
    "                    time_0123[i][k] = time_count[k]\n",
    "    \n",
    "    return time_0123 "
   ]
  },
  {
   "cell_type": "code",
   "execution_count": 2,
   "metadata": {
    "scrolled": false
   },
   "outputs": [
    {
     "name": "stdout",
     "output_type": "stream",
     "text": [
      "몇번째 파일? : 5\n"
     ]
    },
    {
     "name": "stderr",
     "output_type": "stream",
     "text": [
      "<ipython-input-1-17055211684f>:18: TqdmDeprecationWarning: This function will be removed in tqdm==5.0.0\n",
      "Please use `tqdm.notebook.tqdm` instead of `tqdm.tqdm_notebook`\n",
      "  for i in tqdm_notebook(range(len(file_list))):\n"
     ]
    },
    {
     "data": {
      "application/vnd.jupyter.widget-view+json": {
       "model_id": "d76b8be6219a48eeaa5c709194857620",
       "version_major": 2,
       "version_minor": 0
      },
      "text/plain": [
       "HBox(children=(HTML(value=''), FloatProgress(value=0.0, max=7.0), HTML(value='')))"
      ]
     },
     "metadata": {},
     "output_type": "display_data"
    },
    {
     "name": "stderr",
     "output_type": "stream",
     "text": [
      "C:\\Users\\scsi_public\\anaconda3\\lib\\site-packages\\IPython\\core\\interactiveshell.py:3418: DtypeWarning: Columns (1,2,3,4) have mixed types.Specify dtype option on import or set low_memory=False.\n",
      "  exec(code_obj, self.user_global_ns, self.user_ns)\n"
     ]
    },
    {
     "name": "stdout",
     "output_type": "stream",
     "text": [
      "\n",
      "끝인가요? : Y or N: N\n",
      "몇번째 파일? : 6\n"
     ]
    },
    {
     "name": "stderr",
     "output_type": "stream",
     "text": [
      "<ipython-input-1-17055211684f>:18: TqdmDeprecationWarning: This function will be removed in tqdm==5.0.0\n",
      "Please use `tqdm.notebook.tqdm` instead of `tqdm.tqdm_notebook`\n",
      "  for i in tqdm_notebook(range(len(file_list))):\n"
     ]
    },
    {
     "data": {
      "application/vnd.jupyter.widget-view+json": {
       "model_id": "e6457fc8fd7d4547b61d974ceef0dcb4",
       "version_major": 2,
       "version_minor": 0
      },
      "text/plain": [
       "HBox(children=(HTML(value=''), FloatProgress(value=0.0, max=7.0), HTML(value='')))"
      ]
     },
     "metadata": {},
     "output_type": "display_data"
    },
    {
     "name": "stderr",
     "output_type": "stream",
     "text": [
      "C:\\Users\\scsi_public\\anaconda3\\lib\\site-packages\\IPython\\core\\interactiveshell.py:3418: DtypeWarning: Columns (1,2,3,4) have mixed types.Specify dtype option on import or set low_memory=False.\n",
      "  exec(code_obj, self.user_global_ns, self.user_ns)\n"
     ]
    },
    {
     "name": "stdout",
     "output_type": "stream",
     "text": [
      "\n",
      "끝인가요? : Y or N: N\n",
      "몇번째 파일? : 7\n"
     ]
    },
    {
     "name": "stderr",
     "output_type": "stream",
     "text": [
      "<ipython-input-1-17055211684f>:18: TqdmDeprecationWarning: This function will be removed in tqdm==5.0.0\n",
      "Please use `tqdm.notebook.tqdm` instead of `tqdm.tqdm_notebook`\n",
      "  for i in tqdm_notebook(range(len(file_list))):\n"
     ]
    },
    {
     "data": {
      "application/vnd.jupyter.widget-view+json": {
       "model_id": "9e4c60ff2d6443999e23642f19bd74c5",
       "version_major": 2,
       "version_minor": 0
      },
      "text/plain": [
       "HBox(children=(HTML(value=''), FloatProgress(value=0.0, max=7.0), HTML(value='')))"
      ]
     },
     "metadata": {},
     "output_type": "display_data"
    },
    {
     "name": "stderr",
     "output_type": "stream",
     "text": [
      "C:\\Users\\scsi_public\\anaconda3\\lib\\site-packages\\IPython\\core\\interactiveshell.py:3418: DtypeWarning: Columns (1,2,3,4) have mixed types.Specify dtype option on import or set low_memory=False.\n",
      "  exec(code_obj, self.user_global_ns, self.user_ns)\n"
     ]
    },
    {
     "name": "stdout",
     "output_type": "stream",
     "text": [
      "\n",
      "끝인가요? : Y or N: N\n",
      "몇번째 파일? : 8\n"
     ]
    },
    {
     "name": "stderr",
     "output_type": "stream",
     "text": [
      "<ipython-input-1-17055211684f>:18: TqdmDeprecationWarning: This function will be removed in tqdm==5.0.0\n",
      "Please use `tqdm.notebook.tqdm` instead of `tqdm.tqdm_notebook`\n",
      "  for i in tqdm_notebook(range(len(file_list))):\n"
     ]
    },
    {
     "data": {
      "application/vnd.jupyter.widget-view+json": {
       "model_id": "e1cbd6090faf46cc98f26fd01160504d",
       "version_major": 2,
       "version_minor": 0
      },
      "text/plain": [
       "HBox(children=(HTML(value=''), FloatProgress(value=0.0, max=7.0), HTML(value='')))"
      ]
     },
     "metadata": {},
     "output_type": "display_data"
    },
    {
     "name": "stderr",
     "output_type": "stream",
     "text": [
      "C:\\Users\\scsi_public\\anaconda3\\lib\\site-packages\\IPython\\core\\interactiveshell.py:3418: DtypeWarning: Columns (1,2,3,4) have mixed types.Specify dtype option on import or set low_memory=False.\n",
      "  exec(code_obj, self.user_global_ns, self.user_ns)\n"
     ]
    },
    {
     "name": "stdout",
     "output_type": "stream",
     "text": [
      "\n",
      "끝인가요? : Y or N: N\n",
      "몇번째 파일? : 9\n"
     ]
    },
    {
     "name": "stderr",
     "output_type": "stream",
     "text": [
      "<ipython-input-1-17055211684f>:18: TqdmDeprecationWarning: This function will be removed in tqdm==5.0.0\n",
      "Please use `tqdm.notebook.tqdm` instead of `tqdm.tqdm_notebook`\n",
      "  for i in tqdm_notebook(range(len(file_list))):\n"
     ]
    },
    {
     "data": {
      "application/vnd.jupyter.widget-view+json": {
       "model_id": "fcf3157a0a6d4d58a5379a4b461eaf6e",
       "version_major": 2,
       "version_minor": 0
      },
      "text/plain": [
       "HBox(children=(HTML(value=''), FloatProgress(value=0.0, max=7.0), HTML(value='')))"
      ]
     },
     "metadata": {},
     "output_type": "display_data"
    },
    {
     "name": "stderr",
     "output_type": "stream",
     "text": [
      "C:\\Users\\scsi_public\\anaconda3\\lib\\site-packages\\IPython\\core\\interactiveshell.py:3418: DtypeWarning: Columns (1,2,3,4) have mixed types.Specify dtype option on import or set low_memory=False.\n",
      "  exec(code_obj, self.user_global_ns, self.user_ns)\n"
     ]
    },
    {
     "name": "stdout",
     "output_type": "stream",
     "text": [
      "\n",
      "끝인가요? : Y or N: Y\n"
     ]
    }
   ],
   "source": [
    "time_0123 = [[0]*24, [0]*24, [0]*24, [0]*24]\n",
    "while True:\n",
    "    order = int(input('몇번째 파일? : '))\n",
    "    new = func(order)\n",
    "    for i in range(0,4):\n",
    "        for j in range(0,24):\n",
    "            time_0123[i][j] += new[i][j]\n",
    "    YorN = input('끝인가요? : Y or N: ')\n",
    "    if YorN == 'Y' : break"
   ]
  },
  {
   "cell_type": "code",
   "execution_count": 3,
   "metadata": {},
   "outputs": [],
   "source": [
    "Occ = [[0]*24, [0]*24, [0]*24]\n",
    "for i in range(0,24):\n",
    "    All_Occ = time_0123[1][i]+time_0123[2][i]+time_0123[3][i]\n",
    "    Occ[0][i] = All_Occ\n",
    "    Occ[1][i] = All_Occ/(time_0123[0][i] + All_Occ)\n",
    "    Occ[2][i] = time_0123[0][i]/(time_0123[0][i] + All_Occ)"
   ]
  },
  {
   "cell_type": "code",
   "execution_count": 4,
   "metadata": {},
   "outputs": [
    {
     "data": {
      "text/plain": [
       "[[2848387,\n",
       "  2369753,\n",
       "  1860469,\n",
       "  1437023,\n",
       "  1408304,\n",
       "  1267947,\n",
       "  1225741,\n",
       "  1627495,\n",
       "  2160331,\n",
       "  2092535,\n",
       "  1851365,\n",
       "  1820095,\n",
       "  1762852,\n",
       "  1935057,\n",
       "  1823504,\n",
       "  1770241,\n",
       "  1696029,\n",
       "  1713627,\n",
       "  1944464,\n",
       "  1935666,\n",
       "  2016966,\n",
       "  2379135,\n",
       "  2716787,\n",
       "  2859941],\n",
       " [0.5255199551449956,\n",
       "  0.4442527480458809,\n",
       "  0.37119180391648293,\n",
       "  0.31913313546063143,\n",
       "  0.35421875782074713,\n",
       "  0.34708605247021723,\n",
       "  0.33370367930235206,\n",
       "  0.41594265161891,\n",
       "  0.5199942039157748,\n",
       "  0.4887803143838458,\n",
       "  0.4399281426027158,\n",
       "  0.4453650077359779,\n",
       "  0.43570059147057466,\n",
       "  0.483452785542914,\n",
       "  0.44534090423420947,\n",
       "  0.4194862017307019,\n",
       "  0.4069508219378254,\n",
       "  0.4260863900414319,\n",
       "  0.48523723536675084,\n",
       "  0.4660971402317981,\n",
       "  0.4592326791567007,\n",
       "  0.4971284572653636,\n",
       "  0.5335018077055326,\n",
       "  0.5388593431282146],\n",
       " [0.47448004485500445,\n",
       "  0.5557472519541191,\n",
       "  0.628808196083517,\n",
       "  0.6808668645393685,\n",
       "  0.6457812421792528,\n",
       "  0.6529139475297827,\n",
       "  0.666296320697648,\n",
       "  0.58405734838109,\n",
       "  0.48000579608422517,\n",
       "  0.5112196856161542,\n",
       "  0.5600718573972842,\n",
       "  0.5546349922640221,\n",
       "  0.5642994085294254,\n",
       "  0.5165472144570861,\n",
       "  0.5546590957657905,\n",
       "  0.5805137982692982,\n",
       "  0.5930491780621746,\n",
       "  0.5739136099585681,\n",
       "  0.5147627646332492,\n",
       "  0.5339028597682018,\n",
       "  0.5407673208432993,\n",
       "  0.5028715427346364,\n",
       "  0.4664981922944674,\n",
       "  0.4611406568717854]]"
      ]
     },
     "execution_count": 4,
     "metadata": {},
     "output_type": "execute_result"
    }
   ],
   "source": [
    "Occ"
   ]
  },
  {
   "cell_type": "code",
   "execution_count": 5,
   "metadata": {},
   "outputs": [
    {
     "name": "stdout",
     "output_type": "stream",
     "text": [
      "         Empty      In     Out  Occupancy  All occupancy  \\\n",
      "0-1    2571744  161276  183248    2503863        2848387   \n",
      "1-2    2964492  138417  161713    2069623        2369753   \n",
      "2-3    3151681  113985  131779    1614705        1860469   \n",
      "3-4    3065872   90129  103674    1243220        1437023   \n",
      "4-5    2567499   90917   97956    1219431        1408304   \n",
      "5-6    2385173   77480   86871    1103596        1267947   \n",
      "6-7    2447401   73703   78828    1073210        1225741   \n",
      "7-8    2285292   92955   92933    1441607        1627495   \n",
      "8-9    1994198  114350  124897    1921084        2160331   \n",
      "9-10   2188601  113401  126559    1852575        2092535   \n",
      "10-11  2356970  101058  114256    1636051        1851365   \n",
      "11-12  2266654  101057  112163    1606875        1820095   \n",
      "12-13  2283165  102692  112809    1547351        1762852   \n",
      "13-14  2067520  107284  117912    1709861        1935057   \n",
      "14-15  2271121   97735  110073    1615696        1823504   \n",
      "15-16  2449781   92772  103982    1573487        1770241   \n",
      "16-17  2471622   87643   97700    1510686        1696029   \n",
      "17-18  2308156   87057   94573    1531997        1713627   \n",
      "18-19  2062780   98047  104796    1741621        1944464   \n",
      "19-20  2217258  106444  119324    1709898        1935666   \n",
      "20-21  2375069  121068  128208    1767690        2016966   \n",
      "21-22  2406620  133373  142103    2103659        2379135   \n",
      "22-23  2375580  141957  154937    2419893        2716787   \n",
      "23-24  2447457  152411  169488    2538042        2859941   \n",
      "\n",
      "       Occupancy percentage  Empty percentage  \n",
      "0-1                0.525520          0.474480  \n",
      "1-2                0.444253          0.555747  \n",
      "2-3                0.371192          0.628808  \n",
      "3-4                0.319133          0.680867  \n",
      "4-5                0.354219          0.645781  \n",
      "5-6                0.347086          0.652914  \n",
      "6-7                0.333704          0.666296  \n",
      "7-8                0.415943          0.584057  \n",
      "8-9                0.519994          0.480006  \n",
      "9-10               0.488780          0.511220  \n",
      "10-11              0.439928          0.560072  \n",
      "11-12              0.445365          0.554635  \n",
      "12-13              0.435701          0.564299  \n",
      "13-14              0.483453          0.516547  \n",
      "14-15              0.445341          0.554659  \n",
      "15-16              0.419486          0.580514  \n",
      "16-17              0.406951          0.593049  \n",
      "17-18              0.426086          0.573914  \n",
      "18-19              0.485237          0.514763  \n",
      "19-20              0.466097          0.533903  \n",
      "20-21              0.459233          0.540767  \n",
      "21-22              0.497128          0.502872  \n",
      "22-23              0.533502          0.466498  \n",
      "23-24              0.538859          0.461141  \n"
     ]
    }
   ],
   "source": [
    "import pandas as pd\n",
    "data = {'Empty' : time_0123[0], 'In' : time_0123[1], 'Out' : time_0123[2], 'Occupancy' : time_0123[3], 'All occupancy' : Occ[0], 'Occupancy percentage' : Occ[1] , 'Empty percentage' : Occ[2]}\n",
    "df = pd.DataFrame(data, index = ['0-1', '1-2', '2-3', '3-4', '4-5' ,'5-6', '6-7', '7-8', '8-9', '9-10', '10-11', '11-12', '12-13', '13-14', '14-15', '15-16', '16-17', '17-18', '18-19', '19-20', '20-21', '21-22', '22-23', '23-24'])\n",
    "print(df)"
   ]
  },
  {
   "cell_type": "code",
   "execution_count": 6,
   "metadata": {},
   "outputs": [],
   "source": [
    "df.to_csv(\"C:\\\\Users\\\\scsi_public\\\\Desktop\\\\intern\\\\taxi_occupancy_time.csv\",   encoding = 'cp949')"
   ]
  },
  {
   "cell_type": "code",
   "execution_count": null,
   "metadata": {},
   "outputs": [],
   "source": []
  }
 ],
 "metadata": {
  "kernelspec": {
   "display_name": "Python 3",
   "language": "python",
   "name": "python3"
  },
  "language_info": {
   "codemirror_mode": {
    "name": "ipython",
    "version": 3
   },
   "file_extension": ".py",
   "mimetype": "text/x-python",
   "name": "python",
   "nbconvert_exporter": "python",
   "pygments_lexer": "ipython3",
   "version": "3.8.5"
  }
 },
 "nbformat": 4,
 "nbformat_minor": 4
}
