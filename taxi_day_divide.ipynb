{
 "cells": [
  {
   "cell_type": "code",
   "execution_count": 1,
   "metadata": {},
   "outputs": [],
   "source": [
    "import pandas as pd\n",
    "import os\n",
    "import datetime\n",
    "import zipfile\n",
    "import zlib\n",
    "import re\n",
    "from tqdm import tqdm_notebook\n",
    "import glob\n",
    "\n",
    "def func(order):\n",
    "    #파일 경로\n",
    "    zipped_files = glob.glob(\"C:\\\\Users\\\\scsi_public\\\\Desktop\\intern\\\\A comparative analysis of Taxi data\\\\*.zip\")\n",
    "\n",
    "    #zip파일 안에 있는 csv를 하나로\n",
    "    def make_total_df(zipfile_, file_list):\n",
    "        total_df=pd.DataFrame([], [])\n",
    "\n",
    "        for i in tqdm_notebook(range(len(file_list))):\n",
    "            # read csv file in zip file\n",
    "            df = pd.read_csv(zipfile_.open(file_list[i]), encoding = 'cp949')\n",
    "            #concat dataframe\n",
    "            total_df=pd.concat([total_df, df])\n",
    "\n",
    "        return total_df\n",
    "\n",
    "    allData = []\n",
    "\n",
    "\n",
    "\n",
    "    zf = zipped_files[order]\n",
    "    KT_2_zip = zipfile.ZipFile(zf) \n",
    "    file_list = zipfile.ZipFile.namelist(KT_2_zip)\n",
    "    total_df=make_total_df(zipfile_=KT_2_zip, file_list=file_list)\n",
    "    total_df.drop(['#차량번호', '생성월', '지역코드', '좌표X(bessel)', '좌표Y(bessel)', '회사코드', '운전자ID', '좌표X(wgs84)', '좌표Y(wgs84)'], axis = 1, inplace = True)\n",
    "    total_df = total_df.drop(total_df.index[0])\n",
    "    total_df\n",
    "\n",
    "    def takeget(total_df):\n",
    "        data_0123 = []\n",
    "        for i in range(0,4):    \n",
    "                data = total_df[(total_df['승빈차코드']==i)].copy()\n",
    "                data.drop(['승빈차코드'], axis = 1, inplace = True)\n",
    "                data.columns = [i]\n",
    "                data_0123.append(data) \n",
    "        return data_0123\n",
    "\n",
    "    data_0123 = takeget(total_df)\n",
    "\n",
    "    def getDay_c(a,b,c):\n",
    "        daylist = [0, 1, 2, 3, 4, 5, 6]\n",
    "        return daylist[datetime.date(a,b,c).weekday()]\n",
    "\n",
    "    \n",
    "    date_0123 = [[0]*7, [0]*7, [0]*7, [0]*7]\n",
    "    import math\n",
    "    for i in range(0,4):\n",
    "        day_count = [0]*7\n",
    "        for j in range(1, len(data_0123[i].index)):\n",
    "            x = str(math.trunc(int(data_0123[i].iloc[j])))\n",
    "            y = int(x[0:4])\n",
    "            if y == 0 : break\n",
    "            m = int(x[4:6])\n",
    "            d = int(x[6:8])\n",
    "            day = getDay_c(y,m,d)\n",
    "            day_count[day] += 1\n",
    "            if j == len(data_0123[i].index) - 1:\n",
    "                for k in range(len(day_count)):\n",
    "                    date_0123[i][k] = day_count[k]\n",
    "                \n",
    "                \n",
    "    \n",
    "    return date_0123 \n"
   ]
  },
  {
   "cell_type": "code",
   "execution_count": null,
   "metadata": {},
   "outputs": [],
   "source": []
  },
  {
   "cell_type": "code",
   "execution_count": 2,
   "metadata": {},
   "outputs": [
    {
     "name": "stdout",
     "output_type": "stream",
     "text": [
      "몇번째 파일? : 5\n"
     ]
    },
    {
     "name": "stderr",
     "output_type": "stream",
     "text": [
      "<ipython-input-1-515b00d8d379>:18: TqdmDeprecationWarning: This function will be removed in tqdm==5.0.0\n",
      "Please use `tqdm.notebook.tqdm` instead of `tqdm.tqdm_notebook`\n",
      "  for i in tqdm_notebook(range(len(file_list))):\n"
     ]
    },
    {
     "data": {
      "application/vnd.jupyter.widget-view+json": {
       "model_id": "f764d21e2ac74a7a9da2c6359be939e7",
       "version_major": 2,
       "version_minor": 0
      },
      "text/plain": [
       "HBox(children=(HTML(value=''), FloatProgress(value=0.0, max=7.0), HTML(value='')))"
      ]
     },
     "metadata": {},
     "output_type": "display_data"
    },
    {
     "name": "stderr",
     "output_type": "stream",
     "text": [
      "C:\\Users\\scsi_public\\anaconda3\\lib\\site-packages\\IPython\\core\\interactiveshell.py:3418: DtypeWarning: Columns (1,2,3,4) have mixed types.Specify dtype option on import or set low_memory=False.\n",
      "  exec(code_obj, self.user_global_ns, self.user_ns)\n"
     ]
    },
    {
     "name": "stdout",
     "output_type": "stream",
     "text": [
      "\n",
      "끝인가요? : Y or N: N\n",
      "몇번째 파일? : 6\n"
     ]
    },
    {
     "name": "stderr",
     "output_type": "stream",
     "text": [
      "<ipython-input-1-515b00d8d379>:18: TqdmDeprecationWarning: This function will be removed in tqdm==5.0.0\n",
      "Please use `tqdm.notebook.tqdm` instead of `tqdm.tqdm_notebook`\n",
      "  for i in tqdm_notebook(range(len(file_list))):\n"
     ]
    },
    {
     "data": {
      "application/vnd.jupyter.widget-view+json": {
       "model_id": "15c121f1c03c4ba3aa796bef1e73ad0e",
       "version_major": 2,
       "version_minor": 0
      },
      "text/plain": [
       "HBox(children=(HTML(value=''), FloatProgress(value=0.0, max=7.0), HTML(value='')))"
      ]
     },
     "metadata": {},
     "output_type": "display_data"
    },
    {
     "name": "stderr",
     "output_type": "stream",
     "text": [
      "C:\\Users\\scsi_public\\anaconda3\\lib\\site-packages\\IPython\\core\\interactiveshell.py:3418: DtypeWarning: Columns (1,2,3,4) have mixed types.Specify dtype option on import or set low_memory=False.\n",
      "  exec(code_obj, self.user_global_ns, self.user_ns)\n"
     ]
    },
    {
     "name": "stdout",
     "output_type": "stream",
     "text": [
      "\n",
      "끝인가요? : Y or N: N\n",
      "몇번째 파일? : 7\n"
     ]
    },
    {
     "name": "stderr",
     "output_type": "stream",
     "text": [
      "<ipython-input-1-515b00d8d379>:18: TqdmDeprecationWarning: This function will be removed in tqdm==5.0.0\n",
      "Please use `tqdm.notebook.tqdm` instead of `tqdm.tqdm_notebook`\n",
      "  for i in tqdm_notebook(range(len(file_list))):\n"
     ]
    },
    {
     "data": {
      "application/vnd.jupyter.widget-view+json": {
       "model_id": "025f6f6314dd4537bb3ce510984fe247",
       "version_major": 2,
       "version_minor": 0
      },
      "text/plain": [
       "HBox(children=(HTML(value=''), FloatProgress(value=0.0, max=7.0), HTML(value='')))"
      ]
     },
     "metadata": {},
     "output_type": "display_data"
    },
    {
     "name": "stderr",
     "output_type": "stream",
     "text": [
      "C:\\Users\\scsi_public\\anaconda3\\lib\\site-packages\\IPython\\core\\interactiveshell.py:3418: DtypeWarning: Columns (1,2,3,4) have mixed types.Specify dtype option on import or set low_memory=False.\n",
      "  exec(code_obj, self.user_global_ns, self.user_ns)\n"
     ]
    },
    {
     "name": "stdout",
     "output_type": "stream",
     "text": [
      "\n",
      "끝인가요? : Y or N: N\n",
      "몇번째 파일? : 8\n"
     ]
    },
    {
     "name": "stderr",
     "output_type": "stream",
     "text": [
      "<ipython-input-1-515b00d8d379>:18: TqdmDeprecationWarning: This function will be removed in tqdm==5.0.0\n",
      "Please use `tqdm.notebook.tqdm` instead of `tqdm.tqdm_notebook`\n",
      "  for i in tqdm_notebook(range(len(file_list))):\n"
     ]
    },
    {
     "data": {
      "application/vnd.jupyter.widget-view+json": {
       "model_id": "3ddad16368974c3183b0c216d26484d4",
       "version_major": 2,
       "version_minor": 0
      },
      "text/plain": [
       "HBox(children=(HTML(value=''), FloatProgress(value=0.0, max=7.0), HTML(value='')))"
      ]
     },
     "metadata": {},
     "output_type": "display_data"
    },
    {
     "name": "stderr",
     "output_type": "stream",
     "text": [
      "C:\\Users\\scsi_public\\anaconda3\\lib\\site-packages\\IPython\\core\\interactiveshell.py:3418: DtypeWarning: Columns (1,2,3,4) have mixed types.Specify dtype option on import or set low_memory=False.\n",
      "  exec(code_obj, self.user_global_ns, self.user_ns)\n"
     ]
    },
    {
     "name": "stdout",
     "output_type": "stream",
     "text": [
      "\n",
      "끝인가요? : Y or N: N\n",
      "몇번째 파일? : 9\n"
     ]
    },
    {
     "name": "stderr",
     "output_type": "stream",
     "text": [
      "<ipython-input-1-515b00d8d379>:18: TqdmDeprecationWarning: This function will be removed in tqdm==5.0.0\n",
      "Please use `tqdm.notebook.tqdm` instead of `tqdm.tqdm_notebook`\n",
      "  for i in tqdm_notebook(range(len(file_list))):\n"
     ]
    },
    {
     "data": {
      "application/vnd.jupyter.widget-view+json": {
       "model_id": "8d87e2c57999413da8734e477274c237",
       "version_major": 2,
       "version_minor": 0
      },
      "text/plain": [
       "HBox(children=(HTML(value=''), FloatProgress(value=0.0, max=7.0), HTML(value='')))"
      ]
     },
     "metadata": {},
     "output_type": "display_data"
    },
    {
     "name": "stderr",
     "output_type": "stream",
     "text": [
      "C:\\Users\\scsi_public\\anaconda3\\lib\\site-packages\\IPython\\core\\interactiveshell.py:3418: DtypeWarning: Columns (1,2,3,4) have mixed types.Specify dtype option on import or set low_memory=False.\n",
      "  exec(code_obj, self.user_global_ns, self.user_ns)\n"
     ]
    },
    {
     "name": "stdout",
     "output_type": "stream",
     "text": [
      "\n",
      "끝인가요? : Y or N: Y\n"
     ]
    }
   ],
   "source": [
    "\n",
    "date_0123 = [[0]*7,[0]*7, [0]*7, [0]*7]\n",
    "while True:\n",
    "    order = int(input('몇번째 파일? : '))\n",
    "    new = func(order)\n",
    "    for i in range(0,4):\n",
    "        for j in range(0,7):\n",
    "            date_0123[i][j] = date_0123[i][j] + new[i][j]\n",
    "    YorN = input('끝인가요? : Y or N: ')\n",
    "    if YorN == 'Y' : break"
   ]
  },
  {
   "cell_type": "code",
   "execution_count": 3,
   "metadata": {},
   "outputs": [],
   "source": [
    "Occ = [[0]*7, [0]*7, [0]*7]\n",
    "for i in range(0,7):\n",
    "    All_Occ = date_0123[1][i]+date_0123[2][i]+date_0123[3][i]\n",
    "    Occ[0][i] = All_Occ\n",
    "    Occ[1][i] = All_Occ/(date_0123[0][i] + All_Occ)\n",
    "    Occ[2][i] = date_0123[0][i]/(date_0123[0][i] + All_Occ)"
   ]
  },
  {
   "cell_type": "code",
   "execution_count": 4,
   "metadata": {},
   "outputs": [
    {
     "name": "stdout",
     "output_type": "stream",
     "text": [
      "       Empty      In     Out  Occupancy  All occupancy  Occupancy percentage  \\\n",
      "mon  7810582  328688  360643    5129846        5819177              0.426946   \n",
      "tue  9038374  364815  401522    5837860        6604197              0.422194   \n",
      "wed  8809888  394400  436944    6494896        7326240              0.454027   \n",
      "thu  8940347  392008  433776    6378113        7203897              0.446221   \n",
      "fri  8921550  420712  465794    6941616        7828122              0.467360   \n",
      "sat  8914249  421248  466097    6357324        7244669              0.448339   \n",
      "sun  5546716  275340  306006    3916066        4497412              0.447765   \n",
      "\n",
      "     Empty percentage  \n",
      "mon          0.573054  \n",
      "tue          0.577806  \n",
      "wed          0.545973  \n",
      "thu          0.553779  \n",
      "fri          0.532640  \n",
      "sat          0.551661  \n",
      "sun          0.552235  \n"
     ]
    }
   ],
   "source": [
    "import pandas as pd\n",
    "data = {'Empty' : date_0123[0], 'In' : date_0123[1], 'Out' : date_0123[2], 'Occupancy' : date_0123[3], 'All occupancy' : Occ[0], 'Occupancy percentage' : Occ[1] , 'Empty percentage' : Occ[2]}\n",
    "df = pd.DataFrame(data, index = ['mon', 'tue', 'wed', 'thu', 'fri', 'sat', 'sun'])\n",
    "print(df)"
   ]
  },
  {
   "cell_type": "code",
   "execution_count": 5,
   "metadata": {},
   "outputs": [],
   "source": [
    "df.to_csv(\"C:\\\\Users\\\\scsi_public\\\\Desktop\\\\intern\\\\taxi_occupancy_day.csv\",   encoding = 'cp949')"
   ]
  },
  {
   "cell_type": "code",
   "execution_count": null,
   "metadata": {},
   "outputs": [],
   "source": []
  },
  {
   "cell_type": "code",
   "execution_count": null,
   "metadata": {},
   "outputs": [],
   "source": []
  }
 ],
 "metadata": {
  "kernelspec": {
   "display_name": "Python 3",
   "language": "python",
   "name": "python3"
  },
  "language_info": {
   "codemirror_mode": {
    "name": "ipython",
    "version": 3
   },
   "file_extension": ".py",
   "mimetype": "text/x-python",
   "name": "python",
   "nbconvert_exporter": "python",
   "pygments_lexer": "ipython3",
   "version": "3.8.5"
  }
 },
 "nbformat": 4,
 "nbformat_minor": 4
}
